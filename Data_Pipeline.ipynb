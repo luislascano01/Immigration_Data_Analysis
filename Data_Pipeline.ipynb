{
 "cells": [
  {
   "cell_type": "markdown",
   "source": [
    "# US Immigration Data ML + Visualization"
   ],
   "metadata": {
    "collapsed": false
   },
   "id": "7ef6494f8a623999"
  },
  {
   "cell_type": "markdown",
   "source": [
    "## Viz Scenario 1: States and Source Countries + Countries and Destination States"
   ],
   "metadata": {
    "collapsed": false
   },
   "id": "657a84586820220c"
  },
  {
   "cell_type": "markdown",
   "source": [
    "### Data cleaning"
   ],
   "metadata": {
    "collapsed": false
   },
   "id": "e533b100cde7d101"
  },
  {
   "cell_type": "code",
   "outputs": [],
   "source": [
    "import pandas as pd\n",
    "\n",
    "def load_data(filepath, sheet_name):\n",
    "    \"\"\"Load data from an Excel file.\"\"\"\n",
    "    data = pd.read_excel(filepath, sheet_name=sheet_name)\n",
    "    return data\n",
    "\n",
    "# Usage\n",
    "filepath = './Raw_Data/2023_0818_plcy_yearbook_lawful_permanent_residents_fy2022_0.xlsx'\n",
    "sheet_name = 'LPRSuppTable 1'\n",
    "raw_data = load_data(filepath, sheet_name)\n",
    "print(raw_data.head())  # To see the first few rows and confirm loading\n"
   ],
   "metadata": {
    "collapsed": false,
    "is_executing": true
   },
   "id": "cf983ca1ba98770"
  },
  {
   "cell_type": "code",
   "execution_count": null,
   "id": "initial_id",
   "metadata": {
    "collapsed": true
   },
   "outputs": [],
   "source": []
  }
 ],
 "metadata": {
  "kernelspec": {
   "display_name": "Python 3",
   "language": "python",
   "name": "python3"
  },
  "language_info": {
   "codemirror_mode": {
    "name": "ipython",
    "version": 2
   },
   "file_extension": ".py",
   "mimetype": "text/x-python",
   "name": "python",
   "nbconvert_exporter": "python",
   "pygments_lexer": "ipython2",
   "version": "2.7.6"
  }
 },
 "nbformat": 4,
 "nbformat_minor": 5
}
